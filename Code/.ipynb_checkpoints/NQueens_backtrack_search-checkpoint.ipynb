{
 "cells": [
  {
   "cell_type": "code",
   "execution_count": 3,
   "metadata": {},
   "outputs": [],
   "source": [
    "import numpy as np\n",
    "import random\n",
    "import string\n",
    "from datetime import datetime\n",
    "from copy import deepcopy\n",
    "from copy import copy"
   ]
  },
  {
   "cell_type": "code",
   "execution_count": 6,
   "metadata": {},
   "outputs": [],
   "source": [
    "class nqueens:\n",
    "    def __init__(self, start_x = random.randint(0,7), start_y = random.randint(0,7)):\n",
    "        self.size = 8\n",
    "        self.solved = False\n",
    "        print(f'Board created with starting point: {start_x},{start_y}')\n",
    "        self.board = np.zeros((self.size,self.size))\n",
    "        self.col_order = list(range(start_x, self.size))\n",
    "        self.col_order += list(range(0,start_x))\n",
    "        self.row_order = list(range(start_y, self.size))\n",
    "        self.row_order += list(range(0,start_y))\n",
    "        self.completed = False\n",
    "        self.curr_col = 0\n",
    "        self.tries = 0\n",
    "        \n",
    "    def check_placement(self,x,y):\n",
    "        #Check column\n",
    "        if 1 in self.board[y]:\n",
    "            return False\n",
    "        #Check row\n",
    "        elif 1 in self.board[:, x]:\n",
    "            return False\n",
    "        #Check forward diagonal\n",
    "        elif 1 in np.diag(self.board, x-y):\n",
    "            return False\n",
    "        #Check backwards diagonal\n",
    "        elif 1 in np.diag(np.fliplr(self.board), 2-y):\n",
    "            return False\n",
    "        else:\n",
    "            return True\n",
    "        \n",
    "    def backtrack_search(self):\n",
    "        self.board[self.row_order[0], self.col_order[0]] = 1\n",
    "        self.curr_col+=1\n",
    "        if(self.backtrack_recursion(self.col_order[self.curr_col])):\n",
    "            print(f'Solution has been found as follows!:\\n\\n')\n",
    "            for i in range(0,8):\n",
    "                print(f'{self.board[i]}')\n",
    "        else:\n",
    "            print(\"A solution could not be found with the given starting position\")\n",
    "        \n",
    "    def backtrack_recursion(self, col):\n",
    "        for val in self.row_order:\n",
    "            self.tries+=1\n",
    "            if self.check_placement(col, val):\n",
    "                self.curr_col+=1\n",
    "                self.board[val][col] = 1\n",
    "                if self.curr_col == self.size-1:\n",
    "                    return True\n",
    "                if (self.backtrack_recursion(self.col_order[self.curr_col+1])):\n",
    "                    print(self.board)\n",
    "                    return True\n",
    "                self.curr_col-=1\n",
    "                self.board[val][col] = 0\n",
    "        return False"
   ]
  },
  {
   "cell_type": "code",
   "execution_count": 69,
   "metadata": {},
   "outputs": [
    {
     "name": "stdout",
     "output_type": "stream",
     "text": [
      "[1 2 3 4 5]\n",
      "[3 3 3 3 3]\n",
      "[1 2 3]\n",
      "[5 4 3]\n",
      "[[1 2 3 4 5]\n",
      " [1 2 3 4 5]\n",
      " [1 2 3 4 5]\n",
      " [1 2 3 4 5]\n",
      " [1 2 3 4 5]]\n"
     ]
    }
   ],
   "source": [
    "x=2\n",
    "y=4\n",
    "testboard = np.full((5, 5), [1, 2, 3, 4, 5])\n",
    "print(testboard[y])\n",
    "print(testboard[:, x])\n",
    "print(np.diag(testboard, (x-y)))\n",
    "print(np.diag(np.fliplr(testboard), (2-y)))\n",
    "print(testboard)"
   ]
  },
  {
   "cell_type": "code",
   "execution_count": 7,
   "metadata": {},
   "outputs": [
    {
     "name": "stdout",
     "output_type": "stream",
     "text": [
      "Board created with starting point: 0,0\n",
      "It took the following amount of time to complete, in datetime format: 0:00:00.001021\n"
     ]
    }
   ],
   "source": [
    "startTime = datetime.now()\n",
    "board = nqueens(0, 0)\n",
    "print(f'It took the following amount of time to complete, in datetime format: {datetime.now() - startTime}')"
   ]
  },
  {
   "cell_type": "code",
   "execution_count": 8,
   "metadata": {},
   "outputs": [
    {
     "name": "stdout",
     "output_type": "stream",
     "text": [
      "Solution has been found as follows!:\n",
      "\n",
      "\n",
      "[1. 0. 0. 0. 0. 0. 0. 0.]\n",
      "[0. 0. 0. 0. 1. 0. 0. 0.]\n",
      "[0. 1. 0. 0. 0. 0. 0. 0.]\n",
      "[0. 0. 0. 0. 0. 0. 0. 1.]\n",
      "[0. 0. 0. 0. 0. 0. 0. 0.]\n",
      "[0. 0. 0. 0. 0. 0. 1. 0.]\n",
      "[0. 0. 0. 1. 0. 0. 0. 0.]\n",
      "[0. 0. 0. 0. 0. 1. 0. 0.]\n"
     ]
    }
   ],
   "source": [
    "board.backtrack_search()"
   ]
  },
  {
   "cell_type": "code",
   "execution_count": 11,
   "metadata": {},
   "outputs": [
    {
     "name": "stdout",
     "output_type": "stream",
     "text": [
      "| Q  -  -  -  -  -  -  - |\n",
      "| -  -  -  -  Q  -  -  - |\n",
      "| -  Q  -  -  -  -  -  - |\n",
      "| -  -  -  -  -  -  -  Q |\n",
      "| -  -  Q  -  -  -  -  - |\n",
      "| -  -  -  -  -  -  Q  - |\n",
      "| -  -  -  Q  -  -  -  - |\n",
      "| -  -  -  -  -  Q  -  - |\n"
     ]
    }
   ],
   "source": [
    "queens_var = [0,2,4,6,1,7,5,3]\n",
    "for val in range(0,8):\n",
    "    text = \"|\"\n",
    "    for i in queens_var:\n",
    "        if i == val:\n",
    "            text+=\" Q \"\n",
    "        else:\n",
    "            text+=\" - \"\n",
    "    text+=\"|\"\n",
    "    print(text)"
   ]
  },
  {
   "cell_type": "code",
   "execution_count": 193,
   "metadata": {},
   "outputs": [],
   "source": [
    "class N_Queens:\n",
    "\n",
    "    def __init__(self, x = random.randint(0,7), y = random.randint(0,7)):\n",
    "        self.start = [x,y]\n",
    "        self.queen_loc = [9,9,9,9,9,9,9,9]\n",
    "        self.queen_loc[x] = y\n",
    "        self.placed_num = 1\n",
    "        self.tries = 0\n",
    "        self.col_list = list(range(x, 8))\n",
    "        self.col_list += list(range(0, x))\n",
    "        self.row_list = list(range(y, 8))\n",
    "        self.row_list += list(range(0, y))\n",
    "        \n",
    "    def backtrack_search(self):\n",
    "        print(f'The queen in column number {x} is in row number {self.queen_loc[x]}')\n",
    "        #if(self.bk_func(self.col_list[self.placed_num])):\n",
    "            #print(f'Solution found with queen starting location {self.start} as follows:\\n')\n",
    "            #self.print_board()\n",
    "        #else:\n",
    "            #print(f'Solution could not be found with queen starting location {self.start}')\n",
    "    \n",
    "    def bk_func(self, col):\n",
    "        for row in self.row_list:\n",
    "            if self.check_placement(col, row):\n",
    "                self.tries+=1\n",
    "                self.placed_num+=1\n",
    "                self.queen_loc[col] = row\n",
    "                if self.placed_num == 7:\n",
    "                    return True\n",
    "                if(self.bk_func(self.col_list[self.placed_num+1])):\n",
    "                    return True\n",
    "                self.placed_num-=1\n",
    "                self.queen_loc[col] = 9\n",
    "        return False\n",
    "    \n",
    "    def check_placement(self,col,row):\n",
    "        if row in self.queen_loc:\n",
    "            return False\n",
    "        elif ()#<-------Need to write function for diagonals check------\n",
    "            return False\n",
    "        else:\n",
    "            return True\n",
    "    def print_board(self):\n",
    "        board = []\n",
    "        for val1 in range(0,8):\n",
    "            temp_list = []\n",
    "            for val2 in range(0,8):\n",
    "                if self.queen_loc[val1] == val2:\n",
    "                    temp_list.append('Q')\n",
    "                else:\n",
    "                    temp_list.append('X')\n",
    "            board.append(temp_list)\n",
    "            print(board[val1])\n",
    "    "
   ]
  },
  {
   "cell_type": "code",
   "execution_count": 198,
   "metadata": {},
   "outputs": [],
   "source": [
    "test = N_Queens(0,0)"
   ]
  },
  {
   "cell_type": "code",
   "execution_count": 199,
   "metadata": {},
   "outputs": [
    {
     "name": "stdout",
     "output_type": "stream",
     "text": [
      "The queen in column number 7 is in row number 9\n",
      "Solution found for starting location [0, 0] as follow:\n",
      "\n"
     ]
    }
   ],
   "source": [
    "test.backtrack_search()"
   ]
  },
  {
   "cell_type": "code",
   "execution_count": 200,
   "metadata": {},
   "outputs": [
    {
     "name": "stdout",
     "output_type": "stream",
     "text": [
      "['Q', 'X', 'X', 'X', 'X', 'X', 'X', 'X']\n",
      "['X', 'X', 'X', 'X', 'X', 'X', 'X', 'X']\n",
      "['X', 'X', 'X', 'X', 'X', 'X', 'X', 'X']\n",
      "['X', 'X', 'X', 'X', 'X', 'X', 'X', 'X']\n",
      "['X', 'X', 'X', 'X', 'X', 'X', 'X', 'X']\n",
      "['X', 'X', 'X', 'X', 'X', 'X', 'X', 'X']\n",
      "['X', 'X', 'X', 'X', 'X', 'X', 'X', 'X']\n",
      "['X', 'X', 'X', 'X', 'X', 'X', 'X', 'X']\n"
     ]
    }
   ],
   "source": [
    "test.print_board()"
   ]
  },
  {
   "cell_type": "code",
   "execution_count": 124,
   "metadata": {},
   "outputs": [
    {
     "data": {
      "text/plain": [
       "1"
      ]
     },
     "execution_count": 124,
     "metadata": {},
     "output_type": "execute_result"
    }
   ],
   "source": [
    "49%8"
   ]
  },
  {
   "cell_type": "code",
   "execution_count": 171,
   "metadata": {},
   "outputs": [
    {
     "name": "stdout",
     "output_type": "stream",
     "text": [
      "[['X'], ['X'], ['X'], ['X'], ['X'], ['X'], ['X'], ['X']]\n"
     ]
    }
   ],
   "source": [
    "board = []\n",
    "for val1 in range(0,8):\n",
    "    for val2 in range(0,8):\n",
    "        temp_list = []\n",
    "        if val2 == 1:\n",
    "            temp_list.append('Q')\n",
    "        else:\n",
    "            temp_list.append('X')\n",
    "    board.append([temp_lis])\n",
    "print(board)"
   ]
  },
  {
   "cell_type": "code",
   "execution_count": null,
   "metadata": {},
   "outputs": [],
   "source": [
    "for val2 in range(0,8):\n",
    "        if val2 == 1:\n",
    "            temp_list.append('Q')\n",
    "        else:\n",
    "            temp_list.append('X')"
   ]
  }
 ],
 "metadata": {
  "kernelspec": {
   "display_name": "Python 3",
   "language": "python",
   "name": "python3"
  },
  "language_info": {
   "codemirror_mode": {
    "name": "ipython",
    "version": 3
   },
   "file_extension": ".py",
   "mimetype": "text/x-python",
   "name": "python",
   "nbconvert_exporter": "python",
   "pygments_lexer": "ipython3",
   "version": "3.7.7"
  }
 },
 "nbformat": 4,
 "nbformat_minor": 4
}
