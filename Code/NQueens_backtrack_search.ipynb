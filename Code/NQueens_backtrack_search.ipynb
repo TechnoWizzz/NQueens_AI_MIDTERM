{
 "cells": [
  {
   "cell_type": "code",
   "execution_count": 1,
   "metadata": {},
   "outputs": [],
   "source": [
    "import numpy as np\n",
    "import random\n",
    "import string\n",
    "from datetime import datetime\n",
    "from copy import deepcopy\n",
    "from copy import copy"
   ]
  },
  {
   "cell_type": "code",
   "execution_count": 26,
   "metadata": {},
   "outputs": [],
   "source": [
    "class nqueens:\n",
    "    def __init__(self, start_x = random.randint(0,7), start_y = random.randint(0,7)):\n",
    "        self.size = 8\n",
    "        self.solved = False\n",
    "        print(f'Board created with starting point: {start_x},{start_y}')\n",
    "        self.board = np.zeros((self.size,self.size))\n",
    "        self.col_order = list(range(start_x, self.size))\n",
    "        self.col_order += list(range(0,start_x))\n",
    "        self.row_order = list(range(start_y, self.size))\n",
    "        self.row_order += list(range(0,start_y))\n",
    "        self.completed = False\n",
    "        self.curr_col = 0\n",
    "        self.tries = 0\n",
    "        \n",
    "    def check_placement(self,x,y):\n",
    "        #Check column\n",
    "        if 1 in self.board[y]:\n",
    "            return False\n",
    "        #Check row\n",
    "        elif 1 in self.board[:, x]:\n",
    "            return False\n",
    "        #Check forward diagonal\n",
    "        elif 1 in np.diag(self.board, x-y):\n",
    "            return False\n",
    "        #Check backwards diagonal\n",
    "        elif 1 in np.diag(np.fliplr(self.board), (2-y)):\n",
    "            return False\n",
    "        else:\n",
    "            return True\n",
    "        \n",
    "    def backtrack_search(self):\n",
    "        self.board[self.row_order[0], self.col_order[0]] = 1\n",
    "        self.curr_col+=1\n",
    "        if(self.backtrack_recursion(self.col_order[self.curr_col])):\n",
    "            print(f'Solution has been found as follows!:\\n\\n')\n",
    "            for i in range(0,8):\n",
    "                print(f'{self.board[i]}')\n",
    "        else:\n",
    "            print(\"A solution could not be found with the given starting position\")\n",
    "        \n",
    "    def backtrack_recursion(self, col):\n",
    "        for val in self.row_order:\n",
    "            self.tries+=1\n",
    "            if self.check_placement(col, val):\n",
    "                self.curr_col+=1\n",
    "                self.board[val][col] = 1\n",
    "                if self.curr_col == self.size:\n",
    "                    return True\n",
    "                if (self.backtrack_recursion(self.col_order[self.curr_col+1]) & self.curr_col != 8):\n",
    "                    return True\n",
    "                self.curr_col-=1\n",
    "                self.board[val][col] = 0\n",
    "        return False"
   ]
  },
  {
   "cell_type": "code",
   "execution_count": 4,
   "metadata": {},
   "outputs": [
    {
     "name": "stdout",
     "output_type": "stream",
     "text": [
      "4, 3\n",
      "3, 2\n",
      "2, 1\n",
      "1, 0\n"
     ]
    }
   ],
   "source": [
    "for i,j in zip(range(4,-1,-1),range(3,-1,-1)):\n",
    "    print(f'{i}, {j}')"
   ]
  },
  {
   "cell_type": "code",
   "execution_count": 27,
   "metadata": {},
   "outputs": [
    {
     "name": "stdout",
     "output_type": "stream",
     "text": [
      "Board created with starting point: 0,0\n",
      "It took the following amount of time to complete, in datetime format: 0:00:00\n"
     ]
    }
   ],
   "source": [
    "startTime = datetime.now()\n",
    "board = nqueens(0, 0)\n",
    "print(f'It took the following amount of time to complete, in datetime format: {datetime.now() - startTime}')"
   ]
  },
  {
   "cell_type": "code",
   "execution_count": 85,
   "metadata": {},
   "outputs": [
    {
     "name": "stdout",
     "output_type": "stream",
     "text": [
      "[[0. 0. 0. 0. 0. 0. 0. 0.]\n",
      " [0. 0. 0. 0. 0. 0. 0. 0.]\n",
      " [0. 0. 0. 0. 0. 0. 0. 0.]\n",
      " [0. 0. 0. 0. 0. 0. 0. 0.]\n",
      " [0. 0. 0. 0. 0. 0. 0. 0.]\n",
      " [0. 0. 0. 0. 0. 0. 0. 0.]\n",
      " [0. 0. 0. 0. 0. 0. 0. 0.]\n",
      " [0. 0. 0. 0. 0. 0. 0. 0.]]\n"
     ]
    }
   ],
   "source": [
    "test = np.zeros((8,8))\n",
    "print(test)"
   ]
  },
  {
   "cell_type": "code",
   "execution_count": 108,
   "metadata": {},
   "outputs": [
    {
     "name": "stdout",
     "output_type": "stream",
     "text": [
      "[[1. 0. 0. 0. 0. 0. 0. 0.]\n",
      " [0. 0. 0. 0. 0. 0. 0. 0.]\n",
      " [0. 0. 0. 0. 0. 0. 0. 0.]\n",
      " [0. 0. 0. 0. 0. 0. 0. 1.]\n",
      " [0. 0. 0. 0. 0. 0. 0. 0.]\n",
      " [0. 0. 0. 0. 0. 0. 0. 0.]\n",
      " [0. 0. 0. 0. 0. 0. 0. 0.]\n",
      " [0. 0. 0. 0. 0. 0. 0. 0.]]\n",
      "\n",
      "\n",
      "[0. 0. 0. 0. 0. 0. 0. 1.]\n",
      "[0. 0. 0. 1. 0. 0. 0. 0.]\n",
      "\n",
      "\n",
      "[0. 0. 0. 1.]\n",
      "\n",
      "\n",
      "[1. 0. 0. 0. 0.]\n"
     ]
    }
   ],
   "source": [
    "row = 3\n",
    "col = 7\n",
    "test = np.zeros((8,8))\n",
    "test[0][0] = 1\n",
    "test[3][7] = 1\n",
    "print(test)\n",
    "print(\"\\n\")\n",
    "print(test[row])\n",
    "print(test[:,col])\n",
    "diagonal = np.diag(test, col-row)\n",
    "print(\"\\n\")\n",
    "print(diagonal)\n",
    "diagonal = np.diag(np.fliplr(test), 7-(col+row))\n",
    "print(\"\\n\")\n",
    "print(diagonal)"
   ]
  },
  {
   "cell_type": "code",
   "execution_count": 83,
   "metadata": {},
   "outputs": [
    {
     "name": "stdout",
     "output_type": "stream",
     "text": [
      "Impossible placement\n",
      "Impossible placement\n",
      "6,4 \n",
      "6,2 \n",
      "7,5 \n",
      "7,1 \n",
      "4,4 \n",
      "4,2 \n",
      "3,5 \n",
      "3,1 \n",
      "2,6 \n",
      "2,0 \n",
      "1,7 \n",
      "1,-1 \n"
     ]
    }
   ],
   "source": [
    "row=3\n",
    "col=5\n",
    "if row in queens_var:\n",
    "    print(\"Impossible placement\")\n",
    "if queens_var[col] != -9:\n",
    "    print(\"Impossible placement\")\n",
    "for i in range(1,  8-col):\n",
    "        print(f'{col+i},{row+i} ')\n",
    "        print(f'{col+i},{row-i} ')\n",
    "for i in range(1, 8-(8-col)):\n",
    "        print(f'{col-i},{row+i} ')\n",
    "        print(f'{col-i},{row-i} ')"
   ]
  },
  {
   "cell_type": "code",
   "execution_count": 78,
   "metadata": {},
   "outputs": [
    {
     "data": {
      "text/plain": [
       "range(0, -3)"
      ]
     },
     "execution_count": 78,
     "metadata": {},
     "output_type": "execute_result"
    }
   ],
   "source": [
    "range(col-8)"
   ]
  },
  {
   "cell_type": "code",
   "execution_count": 57,
   "metadata": {},
   "outputs": [
    {
     "data": {
      "text/plain": [
       "range(1, 8)"
      ]
     },
     "execution_count": 57,
     "metadata": {},
     "output_type": "execute_result"
    }
   ],
   "source": [
    "range(row,8,1)"
   ]
  },
  {
   "cell_type": "code",
   "execution_count": 49,
   "metadata": {},
   "outputs": [],
   "source": [
    "for i in range(col, -1 ,1):\n",
    "    print(i)"
   ]
  },
  {
   "cell_type": "code",
   "execution_count": 43,
   "metadata": {},
   "outputs": [
    {
     "data": {
      "text/plain": [
       "range(1, 8)"
      ]
     },
     "execution_count": 43,
     "metadata": {},
     "output_type": "execute_result"
    }
   ],
   "source": [
    "range(row, 8, 1)"
   ]
  },
  {
   "cell_type": "code",
   "execution_count": 45,
   "metadata": {},
   "outputs": [],
   "source": [
    "i = zip(range(col, -1 ,1), range(row, 8, 1))"
   ]
  },
  {
   "cell_type": "code",
   "execution_count": 47,
   "metadata": {},
   "outputs": [
    {
     "data": {
      "text/plain": [
       "[]"
      ]
     },
     "execution_count": 47,
     "metadata": {},
     "output_type": "execute_result"
    }
   ],
   "source": [
    "list(i)"
   ]
  },
  {
   "cell_type": "code",
   "execution_count": null,
   "metadata": {},
   "outputs": [],
   "source": []
  }
 ],
 "metadata": {
  "kernelspec": {
   "display_name": "Python 3",
   "language": "python",
   "name": "python3"
  },
  "language_info": {
   "codemirror_mode": {
    "name": "ipython",
    "version": 3
   },
   "file_extension": ".py",
   "mimetype": "text/x-python",
   "name": "python",
   "nbconvert_exporter": "python",
   "pygments_lexer": "ipython3",
   "version": "3.7.7"
  }
 },
 "nbformat": 4,
 "nbformat_minor": 4
}
